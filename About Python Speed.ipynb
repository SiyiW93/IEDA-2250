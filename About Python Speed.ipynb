{
 "cells": [
  {
   "cell_type": "markdown",
   "id": "4e63b928-d89e-4a38-99de-2fe618fd5505",
   "metadata": {},
   "source": [
    "# About Python Speed"
   ]
  },
  {
   "cell_type": "markdown",
   "id": "449b4ee2-2f7a-4ede-b755-f23832376cae",
   "metadata": {},
   "source": [
    "Suppose we want to multiply two $n\\times n$ matrices $A$ and $B$, and put the result in matrix $C$. We first initialize three matrices as follows."
   ]
  },
  {
   "cell_type": "code",
   "execution_count": 1,
   "id": "6176fb1f-d9d8-4b12-8f95-266674b9bbb9",
   "metadata": {},
   "outputs": [],
   "source": [
    "import numpy as np"
   ]
  },
  {
   "cell_type": "code",
   "execution_count": 2,
   "id": "f1714fce-0367-42e8-89a5-af2e950e30b9",
   "metadata": {},
   "outputs": [],
   "source": [
    "n = 1000\n",
    "\n",
    "A = np.zeros((n,n),dtype=float)\n",
    "B = np.zeros((n,n),dtype=float)\n",
    "C = np.zeros((n,n),dtype=float)\n",
    "\n",
    "for i in range(n):\n",
    "    for j in range(n):\n",
    "        A[i,j]=j+1\n",
    "        B[i,j]=j+1"
   ]
  },
  {
   "cell_type": "markdown",
   "id": "faac2976-d9a0-471d-9142-30bf806ac2e0",
   "metadata": {
    "tags": []
   },
   "source": [
    "### Matrix Multiplication without Vectorization"
   ]
  },
  {
   "cell_type": "code",
   "execution_count": null,
   "id": "03eb5030-f2be-43e8-befd-d32bf36e4d49",
   "metadata": {},
   "outputs": [],
   "source": [
    "%%time\n",
    "for i in range(n):\n",
    "    for j in range(n):\n",
    "        for k in range(n):\n",
    "            C[i,j] += A[i,k] * B[k,j]"
   ]
  },
  {
   "cell_type": "code",
   "execution_count": null,
   "id": "51d6c60d-8cea-408e-908c-7e352b43fdb4",
   "metadata": {},
   "outputs": [],
   "source": [
    "C"
   ]
  },
  {
   "cell_type": "markdown",
   "id": "1e06ab42-3a96-4d48-aef5-71636557e512",
   "metadata": {},
   "source": [
    "### Matrix Multiplication with Vectorization"
   ]
  },
  {
   "cell_type": "code",
   "execution_count": 3,
   "id": "84957d38-2cc4-4d30-8ee9-0b6116da7638",
   "metadata": {},
   "outputs": [
    {
     "name": "stdout",
     "output_type": "stream",
     "text": [
      "CPU times: user 478 ms, sys: 707 ms, total: 1.19 s\n",
      "Wall time: 38.1 ms\n"
     ]
    }
   ],
   "source": [
    "%%time\n",
    "C = np.matmul(A,B)"
   ]
  },
  {
   "cell_type": "code",
   "execution_count": 4,
   "id": "6737692f-a31e-4657-a202-106e53b97865",
   "metadata": {},
   "outputs": [
    {
     "data": {
      "text/plain": [
       "array([[5.005000e+05, 1.001000e+06, 1.501500e+06, ..., 4.994990e+08,\n",
       "        4.999995e+08, 5.005000e+08],\n",
       "       [5.005000e+05, 1.001000e+06, 1.501500e+06, ..., 4.994990e+08,\n",
       "        4.999995e+08, 5.005000e+08],\n",
       "       [5.005000e+05, 1.001000e+06, 1.501500e+06, ..., 4.994990e+08,\n",
       "        4.999995e+08, 5.005000e+08],\n",
       "       ...,\n",
       "       [5.005000e+05, 1.001000e+06, 1.501500e+06, ..., 4.994990e+08,\n",
       "        4.999995e+08, 5.005000e+08],\n",
       "       [5.005000e+05, 1.001000e+06, 1.501500e+06, ..., 4.994990e+08,\n",
       "        4.999995e+08, 5.005000e+08],\n",
       "       [5.005000e+05, 1.001000e+06, 1.501500e+06, ..., 4.994990e+08,\n",
       "        4.999995e+08, 5.005000e+08]])"
      ]
     },
     "execution_count": 4,
     "metadata": {},
     "output_type": "execute_result"
    }
   ],
   "source": [
    "C"
   ]
  },
  {
   "cell_type": "code",
   "execution_count": null,
   "id": "e1bf278a-e335-44d6-bfae-7eb2a4e936d1",
   "metadata": {},
   "outputs": [],
   "source": []
  }
 ],
 "metadata": {
  "kernelspec": {
   "display_name": "Python 3",
   "language": "python",
   "name": "python3"
  },
  "language_info": {
   "codemirror_mode": {
    "name": "ipython",
    "version": 3
   },
   "file_extension": ".py",
   "mimetype": "text/x-python",
   "name": "python",
   "nbconvert_exporter": "python",
   "pygments_lexer": "ipython3",
   "version": "3.6.9"
  }
 },
 "nbformat": 4,
 "nbformat_minor": 5
}
