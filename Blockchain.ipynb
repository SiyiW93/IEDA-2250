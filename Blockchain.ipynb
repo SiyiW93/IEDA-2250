{
 "cells": [
  {
   "cell_type": "markdown",
   "metadata": {},
   "source": [
    "# Calculation of attack probability in Bitcoin Blockchain"
   ]
  },
  {
   "cell_type": "markdown",
   "metadata": {},
   "source": [
    "### Import packages"
   ]
  },
  {
   "cell_type": "code",
   "execution_count": 1,
   "metadata": {},
   "outputs": [],
   "source": [
    "import numpy as np\n",
    "import matplotlib.pyplot as plt"
   ]
  },
  {
   "cell_type": "markdown",
   "metadata": {},
   "source": [
    "### Calculate the probability of successful attack "
   ]
  },
  {
   "cell_type": "markdown",
   "metadata": {},
   "source": [
    "Reference: https://bitcoin.org/bitcoin.pdf (Section 11)"
   ]
  },
  {
   "cell_type": "code",
   "execution_count": 2,
   "metadata": {},
   "outputs": [],
   "source": [
    "# p = probability an honest node finds the next block\n",
    "# q = probability the attacker finds the next block\n",
    "# z = probability the attacker will ever catch up from z blocks behind\n",
    "# Lambda = attacker's expected potential progress\n",
    "\n",
    "\n",
    "def AttackerSuccessProbability(q, z):\n",
    "    p = 1 - q\n",
    "    Lambda = z * (q / p)\n",
    "    Sum = 1.0 \n",
    "    for k in range(0, z + 1):\n",
    "        poisson = np.exp( -Lambda)\n",
    "        for i in range(1, k + 1):\n",
    "            poisson *= Lambda / i\n",
    "        Sum -= poisson * ( 1 - np.power(q / p, z - k))\n",
    "    return Sum"
   ]
  },
  {
   "cell_type": "code",
   "execution_count": 3,
   "metadata": {},
   "outputs": [
    {
     "data": {
      "text/plain": [
       "0.00024280274536281864"
      ]
     },
     "execution_count": 3,
     "metadata": {},
     "output_type": "execute_result"
    }
   ],
   "source": [
    "AttackerSuccessProbability(0.1,6)"
   ]
  },
  {
   "cell_type": "code",
   "execution_count": 4,
   "metadata": {},
   "outputs": [
    {
     "data": {
      "text/plain": [
       "0.9464793832760894"
      ]
     },
     "execution_count": 4,
     "metadata": {},
     "output_type": "execute_result"
    }
   ],
   "source": [
    "AttackerSuccessProbability(0.49,10)"
   ]
  },
  {
   "cell_type": "markdown",
   "metadata": {},
   "source": [
    "### Let's do some plotting"
   ]
  },
  {
   "cell_type": "code",
   "execution_count": 5,
   "metadata": {},
   "outputs": [
    {
     "data": {
      "text/plain": [
       "array([ 0,  1,  2,  3,  4,  5,  6,  7,  8,  9, 10])"
      ]
     },
     "execution_count": 5,
     "metadata": {},
     "output_type": "execute_result"
    }
   ],
   "source": [
    "z = np.arange(0,11,1)\n",
    "z"
   ]
  },
  {
   "cell_type": "code",
   "execution_count": 6,
   "metadata": {},
   "outputs": [
    {
     "data": {
      "text/plain": [
       "numpy.ndarray"
      ]
     },
     "execution_count": 6,
     "metadata": {},
     "output_type": "execute_result"
    }
   ],
   "source": [
    "type(z)"
   ]
  },
  {
   "cell_type": "code",
   "execution_count": 7,
   "metadata": {},
   "outputs": [],
   "source": [
    "result_q1 =  np.array([])\n",
    "result_q2 =  np.array([])\n",
    "for i in z:\n",
    "    result_q1 = np.append(result_q1, [AttackerSuccessProbability(0.1, i)])\n",
    "    result_q2 = np.append(result_q2, [AttackerSuccessProbability(0.3, i)])"
   ]
  },
  {
   "cell_type": "code",
   "execution_count": 8,
   "metadata": {},
   "outputs": [
    {
     "data": {
      "text/plain": [
       "array([1.00000000e+00, 2.04587274e-01, 5.09778928e-02, 1.31722417e-02,\n",
       "       3.45524347e-03, 9.13682188e-04, 2.42802745e-04, 6.47353169e-05,\n",
       "       1.72998042e-05, 4.63116397e-06, 1.24140217e-06])"
      ]
     },
     "execution_count": 8,
     "metadata": {},
     "output_type": "execute_result"
    }
   ],
   "source": [
    "result_q1"
   ]
  },
  {
   "cell_type": "code",
   "execution_count": 9,
   "metadata": {},
   "outputs": [
    {
     "data": {
      "text/plain": [
       "[Text(0,0.5,'Probability of successful Attack'),\n",
       " Text(0.5,0,'z Blocks ahead'),\n",
       " Text(0.5,1,'Simulation experiment')]"
      ]
     },
     "execution_count": 9,
     "metadata": {},
     "output_type": "execute_result"
    },
    {
     "data": {
      "image/png": "[encoded data removed]",
      "text/plain": [
       "<Figure size 432x288 with 1 Axes>"
      ]
     },
     "metadata": {
      "needs_background": "light"
     },
     "output_type": "display_data"
    }
   ],
   "source": [
    "fig, ax = plt.subplots() # create a new plot\n",
    "ax.set(xlabel='z Blocks ahead', \n",
    "       ylabel='Probability of successful Attack',\n",
    "       title='Simulation experiment')"
   ]
  },
  {
   "cell_type": "code",
   "execution_count": 10,
   "metadata": {},
   "outputs": [
    {
     "data": {
      "image/png": "[encoded data removed]",
      "text/plain": [
       "<Figure size 432x288 with 1 Axes>"
      ]
     },
     "metadata": {
      "needs_background": "light"
     },
     "output_type": "display_data"
    }
   ],
   "source": [
    "fig, ax = plt.subplots() # create a new plot\n",
    "\n",
    "# plot\n",
    "ax.plot(z, result_q1, label=\"q = 0.1\")\n",
    "ax.plot(z, result_q2, label=\"q = 0.3\")\n",
    "\n",
    "# some settings about axis and title\n",
    "ax.set(xlabel='z Blocks ahead', \n",
    "       ylabel='Probability of successful Attack',\n",
    "       title='Simulation experiment')\n",
    "ax.legend(loc = \"upper right\")\n",
    "\n",
    "# show the plot\n",
    "plt.show()\n",
    "\n",
    "# save to a pdf file (optional)\n",
    "fig.savefig(\"Simulation experiment.pdf\")"
   ]
  },
  {
   "cell_type": "code",
   "execution_count": 11,
   "metadata": {},
   "outputs": [
    {
     "data": {
      "text/plain": [
       "array([0.1 , 0.15, 0.2 , 0.25, 0.3 , 0.35, 0.4 , 0.45])"
      ]
     },
     "execution_count": 11,
     "metadata": {},
     "output_type": "execute_result"
    }
   ],
   "source": [
    "pb = np.arange(0.10, 0.50, 0.05)\n",
    "pb"
   ]
  },
  {
   "cell_type": "code",
   "execution_count": 12,
   "metadata": {
    "scrolled": true
   },
   "outputs": [
    {
     "data": {
      "text/plain": [
       "0.0009136821879279122"
      ]
     },
     "execution_count": 12,
     "metadata": {},
     "output_type": "execute_result"
    }
   ],
   "source": [
    "AttackerSuccessProbability(0.1, 5)"
   ]
  },
  {
   "cell_type": "code",
   "execution_count": 13,
   "metadata": {},
   "outputs": [
    {
     "data": {
      "image/png": "[encoded data removed]",
      "text/plain": [
       "<Figure size 432x288 with 1 Axes>"
      ]
     },
     "metadata": {
      "needs_background": "light"
     },
     "output_type": "display_data"
    }
   ],
   "source": [
    "fig, ax = plt.subplots() # create a new plot\n",
    "\n",
    "# plot\n",
    "ax.plot(pb, [5, 8, 11, 15, 24, 41, 89, 340], label=\"P < 0.001\")\n",
    "\n",
    "# some settings about axis and title\n",
    "ax.set(xlabel='Computing power controlled by Attacker: q', \n",
    "       ylabel='Blocks needed for confirmation',\n",
    "       title='Relationship between Attacker and Blocks')\n",
    "ax.legend(loc = \"upper left\")\n",
    "\n",
    "# show the plot\n",
    "plt.show()\n",
    "\n",
    "# save to a pdf file (optional)\n",
    "fig.savefig(\"Relationship.pdf\")"
   ]
  }
 ],
 "metadata": {
  "kernelspec": {
   "display_name": "Python 3",
   "language": "python",
   "name": "python3"
  },
  "language_info": {
   "codemirror_mode": {
    "name": "ipython",
    "version": 3
   },
   "file_extension": ".py",
   "mimetype": "text/x-python",
   "name": "python",
   "nbconvert_exporter": "python",
   "pygments_lexer": "ipython3",
   "version": "3.7.0"
  }
 },
 "nbformat": 4,
 "nbformat_minor": 2
}
